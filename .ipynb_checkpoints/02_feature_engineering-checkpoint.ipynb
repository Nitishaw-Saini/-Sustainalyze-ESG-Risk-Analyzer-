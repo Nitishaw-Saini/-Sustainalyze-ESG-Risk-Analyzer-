{
 "cells": [
  {
   "cell_type": "markdown",
   "id": "70a840a8-f1c0-449d-98a5-e85ad5af3307",
   "metadata": {},
   "source": [
    "# Feature Engineering For ML Model"
   ]
  },
  {
   "cell_type": "code",
   "execution_count": null,
   "id": "d6a83dbf-47a8-4f07-8892-d8a00083e0c5",
   "metadata": {},
   "outputs": [],
   "source": [
    "import pandas as pd\n",
    "import numpy as np\n",
    "\n",
    "# --- Load combined dataset ---\n",
    "df = pd.read_csv(\"final_esg_dataset.csv\")"
   ]
  },
  {
   "cell_type": "code",
   "execution_count": 2,
   "id": "dde31c72-ff45-4763-8387-a9e9c7c8e624",
   "metadata": {},
   "outputs": [
    {
     "data": {
      "text/plain": [
       "Index(['Symbol', 'Company Name', 'Sector', 'Industry', 'Description',\n",
       "       'Total_ESG_Risk_Score', 'Predicted_ESG_Score', 'ESG_Risk_Exposure',\n",
       "       'ESG_Risk_Management', 'ESG_Risk_Level', 'Environment_Score',\n",
       "       'Governance_Score', 'Social_Score', 'Controversy_Level',\n",
       "       'Controversy_Score'],\n",
       "      dtype='object')"
      ]
     },
     "execution_count": 2,
     "metadata": {},
     "output_type": "execute_result"
    }
   ],
   "source": [
    "df.columns"
   ]
  },
  {
   "cell_type": "code",
   "execution_count": 3,
   "id": "8d541dd6-86f9-4114-8638-c94f3741bd1a",
   "metadata": {},
   "outputs": [],
   "source": [
    "# --- Clean numeric columns ---\n",
    "numeric_cols = [\n",
    "    'Total_ESG_Risk_Score', 'Predicted_ESG_Score', 'ESG_Risk_Exposure',\n",
    "    'ESG_Risk_Management', 'Environment_Score', 'Governance_Score',\n",
    "    'Social_Score', 'Controversy_Score'\n",
    "]\n",
    "\n",
    "for col in numeric_cols:\n",
    "    df[col] = pd.to_numeric(df[col], errors='coerce')\n"
   ]
  },
  {
   "cell_type": "code",
   "execution_count": 7,
   "id": "f00298d3-c94a-40ec-a815-839c55e65596",
   "metadata": {},
   "outputs": [],
   "source": [
    "# --- Drop rows with invalid numeric values (optional, safe step) ---\n",
    "df = df.dropna(subset=numeric_cols).reset_index(drop=True)"
   ]
  },
  {
   "cell_type": "code",
   "execution_count": 9,
   "id": "e024ee01-8220-48f1-a93a-61c620491b63",
   "metadata": {},
   "outputs": [],
   "source": [
    "# --- ESG Risk Labeling ---\n",
    "def label_risk(score):\n",
    "    if score <= 20:\n",
    "        return \"Low\"\n",
    "    elif score <= 40:\n",
    "        return \"Medium\"\n",
    "    else:\n",
    "        return \"High\"\n",
    "\n",
    "df['ESG_Risk_Label'] = df['Total_ESG_Risk_Score'].apply(label_risk)\n"
   ]
  },
  {
   "cell_type": "code",
   "execution_count": 11,
   "id": "d2ca465f-92d7-4824-875e-c84d483e64d0",
   "metadata": {},
   "outputs": [
    {
     "name": "stdout",
     "output_type": "stream",
     "text": [
      "Label counts:\n",
      "ESG_Risk_Label\n",
      "Medium    475\n",
      "Low       281\n",
      "High      147\n",
      "Name: count, dtype: int64\n"
     ]
    }
   ],
   "source": [
    "# --- Confirm label distribution ---\n",
    "print(\"Label counts:\")\n",
    "print(df['ESG_Risk_Label'].value_counts())\n"
   ]
  },
  {
   "cell_type": "code",
   "execution_count": 13,
   "id": "360dc057-e9a7-4436-9e98-c7f67dca2b59",
   "metadata": {},
   "outputs": [
    {
     "name": "stdout",
     "output_type": "stream",
     "text": [
      "✅ Feature-engineered dataset saved as 'final_esg_dataset_labeled.csv'\n",
      "Final shape: (903, 16)\n"
     ]
    }
   ],
   "source": [
    "# --- Save feature-engineered dataset ---\n",
    "df.to_csv(\"final_esg_dataset_labeled.csv\", index=False)\n",
    "print(\"✅ Feature-engineered dataset saved as 'final_esg_dataset_labeled.csv'\")\n",
    "print(\"Final shape:\", df.shape)\n"
   ]
  },
  {
   "cell_type": "code",
   "execution_count": null,
   "id": "cb6ef4cf-c004-400c-a77a-ad16b41b3e9a",
   "metadata": {},
   "outputs": [],
   "source": []
  }
 ],
 "metadata": {
  "kernelspec": {
   "display_name": "Python 3 (ipykernel)",
   "language": "python",
   "name": "python3"
  },
  "language_info": {
   "codemirror_mode": {
    "name": "ipython",
    "version": 3
   },
   "file_extension": ".py",
   "mimetype": "text/x-python",
   "name": "python",
   "nbconvert_exporter": "python",
   "pygments_lexer": "ipython3",
   "version": "3.11.5"
  }
 },
 "nbformat": 4,
 "nbformat_minor": 5
}
