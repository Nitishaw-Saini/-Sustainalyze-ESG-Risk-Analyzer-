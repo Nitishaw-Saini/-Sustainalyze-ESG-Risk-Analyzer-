{
 "cells": [
  {
   "cell_type": "markdown",
   "id": "77fc0d79-5f59-4a7a-9e65-338b7bae674a",
   "metadata": {},
   "source": [
    "# Extracting Data"
   ]
  },
  {
   "cell_type": "code",
   "execution_count": 2,
   "id": "feb779e0-83c3-4858-816e-8b70cf8d1e65",
   "metadata": {},
   "outputs": [],
   "source": [
    "import pandas as pd\n",
    "import numpy as np"
   ]
  },
  {
   "cell_type": "code",
   "execution_count": 4,
   "id": "5c068633-d7e4-452f-85e4-985e40e7afdf",
   "metadata": {},
   "outputs": [],
   "source": [
    "# --- Load datasets ---\n",
    "sp500_df = pd.read_csv(\"SP 500 ESG Risk Ratings.csv\")\n",
    "nifty50_df = pd.read_csv(\"Nifty50.csv\")"
   ]
  },
  {
   "cell_type": "code",
   "execution_count": 6,
   "id": "781bbf4f-189a-440c-aa39-3db50d627c1a",
   "metadata": {},
   "outputs": [],
   "source": [
    "# --- Standardize Column Names ---\n",
    "sp500_df = sp500_df.rename(columns={\n",
    "    \"Name\": \"Company Name\",\n",
    "    \"Total ESG Risk score\": \"Total_ESG_Risk_Score\",\n",
    "    \"Environment Risk Score\": \"Environment_Score\",\n",
    "    \"Governance Risk Score\": \"Governance_Score\",\n",
    "    \"Social Risk Score\": \"Social_Score\",\n",
    "    \"Controversy Level\": \"Controversy_Level\",\n",
    "    \"Controversy Score\": \"Controversy_Score\",\n",
    "    \"ESG Risk Percentile\": \"ESG_Risk_Percentile\",\n",
    "    \"ESG Risk Level\": \"ESG_Risk_Level\"\n",
    "})\n",
    "\n",
    "nifty50_df = nifty50_df.rename(columns={\n",
    "    \"company\": \"Company Name\",\n",
    "    \"esg_risk_score_2024\": \"Total_ESG_Risk_Score\",\n",
    "    \"predicted_future_esg_score\": \"Predicted_ESG_Score\",\n",
    "    \"esg_risk_exposure\": \"ESG_Risk_Exposure\",\n",
    "    \"esg_risk_management\": \"ESG_Risk_Management\",\n",
    "    \"esg_risk_level\": \"ESG_Risk_Level\",\n",
    "    \"Controversy Level\": \"Controversy_Level\",\n",
    "    \"controversy_score\": \"Controversy_Score\"\n",
    "})\n"
   ]
  },
  {
   "cell_type": "code",
   "execution_count": 8,
   "id": "8aec7584-04d5-4f83-9cdc-8302d4c4e7e5",
   "metadata": {},
   "outputs": [],
   "source": [
    "# --- Final Set of Columns ---\n",
    "final_columns = [\n",
    "    'Symbol', 'Company Name', 'Sector', 'Industry', 'Description',\n",
    "    'Total_ESG_Risk_Score', 'Predicted_ESG_Score',\n",
    "    'ESG_Risk_Exposure', 'ESG_Risk_Management', 'ESG_Risk_Level',\n",
    "    'Environment_Score', 'Governance_Score', 'Social_Score',\n",
    "    'Controversy_Level', 'Controversy_Score'\n",
    "]"
   ]
  },
  {
   "cell_type": "code",
   "execution_count": 10,
   "id": "6e2110d9-2bd2-4e99-8a0d-a30950a54b55",
   "metadata": {},
   "outputs": [],
   "source": [
    "# --- Value Generator Function ---\n",
    "def generate_missing_values(df):\n",
    "    # Only generate if column missing\n",
    "    if 'Predicted_ESG_Score' not in df.columns:\n",
    "        df['Predicted_ESG_Score'] = df['Total_ESG_Risk_Score'] + np.random.normal(0, 5, len(df))\n",
    "\n",
    "    if 'ESG_Risk_Exposure' not in df.columns:\n",
    "        df['ESG_Risk_Exposure'] = np.random.uniform(30, 70, len(df))\n",
    "\n",
    "    if 'ESG_Risk_Management' not in df.columns:\n",
    "        df['ESG_Risk_Management'] = np.random.uniform(30, 70, len(df))\n",
    "\n",
    "    if 'Environment_Score' not in df.columns:\n",
    "        df['Environment_Score'] = np.random.uniform(10, 40, len(df))\n",
    "\n",
    "    if 'Governance_Score' not in df.columns:\n",
    "        df['Governance_Score'] = np.random.uniform(10, 40, len(df))\n",
    "\n",
    "    if 'Social_Score' not in df.columns:\n",
    "        df['Social_Score'] = np.random.uniform(10, 40, len(df))\n",
    "\n",
    "    if 'Controversy_Score' not in df.columns:\n",
    "        df['Controversy_Score'] = np.random.randint(1, 101, len(df))\n",
    "\n",
    "    if 'Controversy_Level' not in df.columns:\n",
    "        def get_level(score):\n",
    "            if score <= 20: return 'Low'\n",
    "            elif score <= 60: return 'Medium'\n",
    "            else: return 'High'\n",
    "        df['Controversy_Level'] = [get_level(s) for s in df['Controversy_Score']]\n",
    "\n",
    "    return df\n"
   ]
  },
  {
   "cell_type": "code",
   "execution_count": 12,
   "id": "a7710611-6065-4637-b23d-ebe93b9dc4f5",
   "metadata": {},
   "outputs": [],
   "source": [
    "# --- Generate values for missing columns ---\n",
    "sp500_df = generate_missing_values(sp500_df)\n",
    "nifty50_df = generate_missing_values(nifty50_df)\n"
   ]
  },
  {
   "cell_type": "code",
   "execution_count": 14,
   "id": "224112bd-7544-4584-bb30-133afbcb3cc5",
   "metadata": {},
   "outputs": [],
   "source": [
    "# --- Fill any missing columns to match final schema ---\n",
    "for col in final_columns:\n",
    "    if col not in sp500_df.columns:\n",
    "        sp500_df[col] = np.nan\n",
    "    if col not in nifty50_df.columns:\n",
    "        nifty50_df[col] = np.nan\n"
   ]
  },
  {
   "cell_type": "code",
   "execution_count": 16,
   "id": "63361151-ff6e-4550-953d-e67b930fc922",
   "metadata": {},
   "outputs": [],
   "source": [
    "# --- Subset and reorder columns ---\n",
    "sp500_clean = sp500_df[final_columns]\n",
    "nifty50_clean = nifty50_df[final_columns]\n"
   ]
  },
  {
   "cell_type": "code",
   "execution_count": 18,
   "id": "fdb219bb-0c97-4732-b887-fee5f49455d8",
   "metadata": {},
   "outputs": [],
   "source": [
    "# --- Combine datasets ---\n",
    "combined_esg_df = pd.concat([sp500_clean, nifty50_clean], ignore_index=True)\n"
   ]
  },
  {
   "cell_type": "code",
   "execution_count": 20,
   "id": "e4229848-6b40-43cc-8740-4e844fd1c502",
   "metadata": {},
   "outputs": [
    {
     "name": "stdout",
     "output_type": "stream",
     "text": [
      "✅ Combined ESG dataset saved as 'combined_esg_real_data.csv'\n",
      "Combined shape: (553, 15)\n"
     ]
    }
   ],
   "source": [
    "# --- Save cleaned & merged dataset ---\n",
    "combined_esg_df.to_csv(\"combined_esg_real_data.csv\", index=False)\n",
    "print(\"✅ Combined ESG dataset saved as 'combined_esg_real_data.csv'\")\n",
    "print(\"Combined shape:\", combined_esg_df.shape)\n"
   ]
  },
  {
   "cell_type": "markdown",
   "id": "38e324a1-c05b-421c-b7f3-2f0685d890bb",
   "metadata": {},
   "source": [
    "# Generating Synthetic Data"
   ]
  },
  {
   "cell_type": "code",
   "execution_count": 23,
   "id": "2246158e-c81b-489c-a76f-fe3fab14da5a",
   "metadata": {},
   "outputs": [
    {
     "name": "stdout",
     "output_type": "stream",
     "text": [
      "✅ Final ESG dataset with synthetic data saved as 'final_esg_dataset.csv'\n",
      "Final shape: (1053, 15)\n"
     ]
    }
   ],
   "source": [
    "from faker import Faker\n",
    "import random\n",
    "\n",
    "fake = Faker()\n",
    "num_synthetic = 500\n",
    "\n",
    "# --- Column Template ---\n",
    "final_columns = [\n",
    "    'Symbol', 'Company Name', 'Sector', 'Industry', 'Description',\n",
    "    'Total_ESG_Risk_Score', 'Predicted_ESG_Score',\n",
    "    'ESG_Risk_Exposure', 'ESG_Risk_Management', 'ESG_Risk_Level',\n",
    "    'Environment_Score', 'Governance_Score', 'Social_Score',\n",
    "    'Controversy_Level', 'Controversy_Score'\n",
    "]\n",
    "\n",
    "sectors = [\"Technology\", \"Finance\", \"Healthcare\", \"Energy\", \"Consumer Goods\", \"Industrials\"]\n",
    "industries = [\"Software\", \"Banks\", \"Pharmaceuticals\", \"Oil & Gas\", \"Retail\", \"Machinery\"]\n",
    "\n",
    "# --- Generator Function ---\n",
    "def generate_synthetic_row():\n",
    "    total_score = round(np.random.uniform(10, 50), 2)\n",
    "    predicted_score = round(total_score + np.random.normal(0, 3), 2)\n",
    "    controversy_score = random.randint(1, 100)\n",
    "    controversy_level = (\n",
    "        \"Low\" if controversy_score <= 20 else\n",
    "        \"Medium\" if controversy_score <= 60 else \"High\"\n",
    "    )\n",
    "    return {\n",
    "        'Symbol': fake.lexify(text='???'),\n",
    "        'Company Name': fake.company(),\n",
    "        'Sector': random.choice(sectors),\n",
    "        'Industry': random.choice(industries),\n",
    "        'Description': fake.catch_phrase(),\n",
    "        'Total_ESG_Risk_Score': total_score,\n",
    "        'Predicted_ESG_Score': predicted_score,\n",
    "        'ESG_Risk_Exposure': round(np.random.uniform(30, 70), 2),\n",
    "        'ESG_Risk_Management': round(np.random.uniform(30, 70), 2),\n",
    "        'ESG_Risk_Level': random.choice(['Low', 'Medium', 'High']),\n",
    "        'Environment_Score': round(np.random.uniform(10, 40), 2),\n",
    "        'Governance_Score': round(np.random.uniform(10, 40), 2),\n",
    "        'Social_Score': round(np.random.uniform(10, 40), 2),\n",
    "        'Controversy_Level': controversy_level,\n",
    "        'Controversy_Score': controversy_score\n",
    "    }\n",
    "\n",
    "# --- Create synthetic dataset ---\n",
    "synthetic_data = [generate_synthetic_row() for _ in range(num_synthetic)]\n",
    "synthetic_df = pd.DataFrame(synthetic_data)\n",
    "\n",
    "# --- Combine with real dataset ---\n",
    "combined_all_df = pd.concat([combined_esg_df, synthetic_df], ignore_index=True)\n",
    "\n",
    "# --- Save final dataset ---\n",
    "combined_all_df.to_csv(\"final_esg_dataset.csv\", index=False)\n",
    "print(\"✅ Final ESG dataset with synthetic data saved as 'final_esg_dataset.csv'\")\n",
    "print(\"Final shape:\", combined_all_df.shape)\n"
   ]
  },
  {
   "cell_type": "code",
   "execution_count": null,
   "id": "69f696a7-a8b6-433a-b42a-1fbf7a2671b6",
   "metadata": {},
   "outputs": [],
   "source": []
  }
 ],
 "metadata": {
  "kernelspec": {
   "display_name": "Python 3 (ipykernel)",
   "language": "python",
   "name": "python3"
  },
  "language_info": {
   "codemirror_mode": {
    "name": "ipython",
    "version": 3
   },
   "file_extension": ".py",
   "mimetype": "text/x-python",
   "name": "python",
   "nbconvert_exporter": "python",
   "pygments_lexer": "ipython3",
   "version": "3.11.5"
  }
 },
 "nbformat": 4,
 "nbformat_minor": 5
}
