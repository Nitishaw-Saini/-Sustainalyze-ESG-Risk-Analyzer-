{
 "cells": [
  {
   "cell_type": "code",
   "execution_count": 25,
   "id": "973e2bec-2a2c-4551-b08e-5a8938625110",
   "metadata": {},
   "outputs": [],
   "source": [
    "import pandas as pd\n",
    "\n",
    "# Load dataset\n",
    "df = pd.read_csv(\"final_esg_dataset_labeled.csv\")\n"
   ]
  },
  {
   "cell_type": "code",
   "execution_count": 27,
   "id": "e84d037b-f1a1-41ad-9d0b-d1c2a6ede693",
   "metadata": {},
   "outputs": [],
   "source": [
    "# --- Function to generate insight based on scores ---\n",
    "def generate_insight(row):\n",
    "    insight = f\"{row['Company Name']} is classified as **{row['ESG_Risk_Label']} ESG risk** based on a total risk score of {row['Total_ESG_Risk_Score']}.\"\n",
    "\n",
    "    # Focus Areas\n",
    "    if row['Environment_Score'] > 30:\n",
    "        insight += \" Environmental risk is elevated\"\n",
    "    if row['Governance_Score'] > 30:\n",
    "        insight += \", with governance concerns\"\n",
    "    if row['Social_Score'] > 30:\n",
    "        insight += \", and social responsibility issues\"\n",
    "\n",
    "    if row['Controversy_Score'] > 70:\n",
    "        insight += \". The company is also involved in significant controversies\"\n",
    "    \n",
    "    insight += \".\"\n",
    "\n",
    "    return insight\n"
   ]
  },
  {
   "cell_type": "code",
   "execution_count": 29,
   "id": "25c18b66-0fc1-4de8-b0ce-9503337cf014",
   "metadata": {},
   "outputs": [],
   "source": [
    "# --- Apply to dataset ---\n",
    "df['ESG_Insight'] = df.apply(generate_insight, axis=1)\n"
   ]
  },
  {
   "cell_type": "code",
   "execution_count": 31,
   "id": "3329d973-5c1e-4d51-933a-c0ee47faaa55",
   "metadata": {},
   "outputs": [
    {
     "name": "stdout",
     "output_type": "stream",
     "text": [
      "            Company Name                                        ESG_Insight\n",
      "555   Howard-Fitzpatrick  Howard-Fitzpatrick is classified as **Low ESG ...\n",
      "205           Intuit Inc  Intuit Inc is classified as **Low ESG risk** b...\n",
      "297  Coterra Energy Inc.  Coterra Energy Inc. is classified as **Medium ...\n"
     ]
    }
   ],
   "source": [
    "# Preview\n",
    "print(df[['Company Name', 'ESG_Insight']].sample(3))"
   ]
  },
  {
   "cell_type": "code",
   "execution_count": 33,
   "id": "8ab8107e-8faf-4167-924a-3e18434f2479",
   "metadata": {},
   "outputs": [
    {
     "name": "stdout",
     "output_type": "stream",
     "text": [
      "✅ ESG insights saved to final_esg_dataset_with_insights.csv\n"
     ]
    }
   ],
   "source": [
    "# Save to new CSV\n",
    "df.to_csv(\"final_esg_dataset_with_insights_normal.csv\", index=False)\n",
    "print(\"✅ ESG insights saved to final_esg_dataset_with_insights.csv\")"
   ]
  },
  {
   "cell_type": "code",
   "execution_count": null,
   "id": "1d5cb7f2-df61-4536-b390-66dad5a38021",
   "metadata": {},
   "outputs": [],
   "source": []
  }
 ],
 "metadata": {
  "kernelspec": {
   "display_name": "Python 3 (ipykernel)",
   "language": "python",
   "name": "python3"
  },
  "language_info": {
   "codemirror_mode": {
    "name": "ipython",
    "version": 3
   },
   "file_extension": ".py",
   "mimetype": "text/x-python",
   "name": "python",
   "nbconvert_exporter": "python",
   "pygments_lexer": "ipython3",
   "version": "3.11.5"
  }
 },
 "nbformat": 4,
 "nbformat_minor": 5
}
